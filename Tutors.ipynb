{
 "cells": [
  {
   "cell_type": "code",
   "execution_count": 3,
   "metadata": {},
   "outputs": [],
   "source": [
    "# name (first, last)\n",
    "# classes as a list (expertises) (Math, History, Science, All Foreign Languages, English)\n",
    "# availability (dictionary with day of week as key and time of day as value)\n",
    "\n",
    "class tutors:\n",
    "    def __init__(self,name):\n",
    "        self.name = name\n",
    "        self.expertises = []\n",
    "        self.availabilities = []\n",
    "    def expertise(self,classes):\n",
    "        self.expertises.append(classes.lower())\n",
    "    def availableDay(self,time):\n",
    "        self.availabilities.append(time.lower())"
   ]
  },
  {
   "cell_type": "code",
   "execution_count": 4,
   "metadata": {},
   "outputs": [],
   "source": [
    "tutorDict = {}\n",
    "def addTutor():\n",
    "    tutor = tutors(input(\"First and Last Name: \"))\n",
    "    numClasses = int(input(\"How many subjects are you comfortable tutoring? \"))\n",
    "    for i in range(numClasses):\n",
    "        expertClass = input(\"Enter the subject to tutor: \")\n",
    "        tutor.expertise(expertClass)\n",
    "    numAvailabilities = int(input(\"How many times are you available to tutor for? \"))\n",
    "    for i in range(numAvailabilities):\n",
    "        expertAvailable = input(\"What time are you available? (ex. Sunday Morning, Monday Afternoon, etc.) \")\n",
    "        tutor.availableDay(expertAvailable)\n",
    "    tutorDict[tutor] = [tutor.expertise,tutor.availableDay]\n",
    "    return list(tutorDict)[0].__dict__"
   ]
  },
  {
   "cell_type": "code",
   "execution_count": null,
   "metadata": {},
   "outputs": [],
   "source": [
    "file = open(\"Tutors\", \"a\")\n",
    "file.write(str(addTutor())+'\\n')\n",
    "file.close()"
   ]
  },
  {
   "cell_type": "code",
   "execution_count": null,
   "metadata": {},
   "outputs": [],
   "source": []
  }
 ],
 "metadata": {
  "kernelspec": {
   "display_name": "Python 3",
   "language": "python",
   "name": "python3"
  },
  "language_info": {
   "codemirror_mode": {
    "name": "ipython",
    "version": 3
   },
   "file_extension": ".py",
   "mimetype": "text/x-python",
   "name": "python",
   "nbconvert_exporter": "python",
   "pygments_lexer": "ipython3",
   "version": "3.7.4"
  }
 },
 "nbformat": 4,
 "nbformat_minor": 2
}
