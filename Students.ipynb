{
 "cells": [
  {
   "cell_type": "code",
   "execution_count": 6,
   "metadata": {},
   "outputs": [],
   "source": [
    "class students:\n",
    "    def __init__(self,name):\n",
    "        self.name = name\n",
    "        self.needs = [] #needs is what you call to output the actual list\n",
    "        self.availabilities = []\n",
    "    def need(self,classes): #need is the function to add to object\n",
    "        self.needs.append(classes.lower())\n",
    "    def available(self,time):\n",
    "        self.availabilities.append(time.lower())"
   ]
  },
  {
   "cell_type": "code",
   "execution_count": 7,
   "metadata": {},
   "outputs": [],
   "source": [
    "def addStudent():\n",
    "    studentDict = {}\n",
    "    student = students(input(\"Enter your Full Name: \"))\n",
    "    numNeeds = int(input(\"How many classes do you need tutoring in?\"))\n",
    "    for j in range(numNeeds):\n",
    "        needClass = input(\"Enter class\"+' '+str((j+1))+':')\n",
    "        student.need(needClass)\n",
    "    \n",
    "    numAvailabilities = int(input(\"How many times are you free for? \"))\n",
    "    for j in range(numAvailabilities):\n",
    "        studentAvailable = input(\"What time are you available? (ex. Sunday Morning, Monday Evening, Thursday Afternoon etc.) \")\n",
    "        student.available(studentAvailable)\n",
    "    print(\"Thanks, you have been added.\")\n",
    "    studentDict[student] = [student.needs, student.availabilities]\n",
    "    \n",
    "    studentsFile = open(\"Students\", \"a\")\n",
    "    studentsFile.write(str(list(studentDict)[0].__dict__)+'\\n')\n",
    "    studentsFile.close()"
   ]
  },
  {
   "cell_type": "code",
   "execution_count": 5,
   "metadata": {},
   "outputs": [
    {
     "name": "stdout",
     "output_type": "stream",
     "text": [
      "Enter your Full Name: David Zhang\n",
      "How many classes do you need tutoring in?2\n",
      "Enter class 1:Math\n",
      "Enter class 2:Science\n",
      "How many times are you free for? 2\n",
      "What time are you available? (ex. Sunday Morning, Monday Evening, Thursday Afternoon etc.) Sunday Afternoon\n",
      "What time are you available? (ex. Sunday Morning, Monday Evening, Thursday Afternoon etc.) Wednesday Afternoon\n",
      "Thanks, you have been added.\n"
     ]
    }
   ],
   "source": [
    "addStudent()"
   ]
  },
  {
   "cell_type": "code",
   "execution_count": null,
   "metadata": {},
   "outputs": [],
   "source": []
  }
 ],
 "metadata": {
  "kernelspec": {
   "display_name": "Python 3",
   "language": "python",
   "name": "python3"
  },
  "language_info": {
   "codemirror_mode": {
    "name": "ipython",
    "version": 3
   },
   "file_extension": ".py",
   "mimetype": "text/x-python",
   "name": "python",
   "nbconvert_exporter": "python",
   "pygments_lexer": "ipython3",
   "version": "3.7.4"
  }
 },
 "nbformat": 4,
 "nbformat_minor": 2
}
